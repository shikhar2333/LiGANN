{
 "cells": [
  {
   "cell_type": "code",
   "execution_count": 1,
   "metadata": {},
   "outputs": [],
   "source": [
    "import molgrid\n",
    "import os\n",
    "import matplotlib.pyplot as plt\n",
    "import argparse\n",
    "from models import *\n",
    "import torch.optim as optim\n",
    "import sys\n",
    "import datetime\n",
    "import time"
   ]
  },
  {
   "cell_type": "code",
   "execution_count": 2,
   "metadata": {},
   "outputs": [],
   "source": [
    "# set some constants\n",
    "batch_size = 5\n",
    "datadir = '/scratch/shubham/crossdock_data'\n",
    "fname = datadir+\"/custom_cd.types\" \n",
    "cuda = True\n",
    "\n",
    "molgrid.set_random_seed(0)\n",
    "torch.manual_seed(0)\n",
    "np.random.seed(0)"
   ]
  },
  {
   "cell_type": "code",
   "execution_count": 3,
   "metadata": {},
   "outputs": [
    {
     "data": {
      "text/plain": [
       "'\\n    Arguement Parsing\\n'"
      ]
     },
     "execution_count": 3,
     "metadata": {},
     "output_type": "execute_result"
    }
   ],
   "source": [
    "'''\n",
    "    Arguement Parsing\n",
    "'''\n",
    "# parser = argparse.ArgumentParser()\n",
    "# parser.add_argument(\"--epoch\", type=int, default=0, help=\"epoch to start training from\")\n",
    "# parser.add_argument(\"--n_epochs\", type=int, default=200, help=\"number of epochs of training\")\n",
    "# parser.add_argument(\"--batch_size\", type=int, default=8, help=\"size of the batches\")\n",
    "# parser.add_argument(\"--lr\", type=float, default=0.0002, help=\"adam: learning rate\")\n",
    "# parser.add_argument(\"--b1\", type=float, default=0.5, help=\"adam: decay of first order momentum of gradient\")\n",
    "# parser.add_argument(\"--b2\", type=float, default=0.999, help=\"adam: decay of first order momentum of gradient\")\n",
    "# parser.add_argument(\"--n_cpu\", type=int, default=8, help=\"number of cpu threads to use during batch generation\")\n",
    "# parser.add_argument(\"--img_height\", type=int, default=128, help=\"size of image height\")\n",
    "# parser.add_argument(\"--img_width\", type=int, default=128, help=\"size of image width\")\n",
    "# parser.add_argument(\"--channels\", type=int, default=3, help=\"number of image channels\")\n",
    "# parser.add_argument(\"--latent_dim\", type=int, default=8, help=\"number of latent codes\")\n",
    "# parser.add_argument(\"--sample_interval\", type=int, default=400, help=\"interval between saving generator samples\")\n",
    "# parser.add_argument(\"--checkpoint_interval\", type=int, default=-1, help=\"interval between model checkpoints\")\n",
    "# parser.add_argument(\"--lambda_pixel\", type=float, default=10, help=\"pixelwise loss weight\")\n",
    "# parser.add_argument(\"--lambda_latent\", type=float, default=0.5, help=\"latent loss weight\")\n",
    "# parser.add_argument(\"--lambda_kl\", type=float, default=0.01, help=\"kullback-leibler loss weight\")\n",
    "# opt = parser.parse_args()"
   ]
  },
  {
   "cell_type": "code",
   "execution_count": 4,
   "metadata": {},
   "outputs": [
    {
     "name": "stdout",
     "output_type": "stream",
     "text": [
      "Number of channels:  14\n",
      "4D Tensor Shape:  (14, 48, 48, 48)\n",
      "(5, 14, 48, 48, 48)\n"
     ]
    }
   ],
   "source": [
    "# use the libmolgrid ExampleProvider to obtain shuffled, balanced, and stratified batches from a file\n",
    "e = molgrid.ExampleProvider(data_root=datadir+\"/structs\",cache_structs=False, balanced=True,shuffle=True)\n",
    "# e.cache_structs=False\n",
    "e.populate(fname)\n",
    "\n",
    "ex = e.next()\n",
    "c = ex.coord_sets[0]\n",
    "center = tuple(c.center())\n",
    "\n",
    "# initialize libmolgrid GridMaker\n",
    "gmaker = molgrid.GridMaker()\n",
    "\n",
    "# e.num_types()//2 is the number of channels used for voxel representation of docked ligand\n",
    "print(\"Number of channels: \", e.num_types()//2)\n",
    "dims = gmaker.grid_dimensions(e.num_types()//2)\n",
    "\n",
    "mgridout = molgrid.MGrid4f(*dims)\n",
    "gmaker.forward(center, c, mgridout.cpu())\n",
    "molgrid.write_dx(\"tmp.dx\", mgridout[0].cpu(), center, 0.5)\n",
    "\n",
    "print(\"4D Tensor Shape: \", dims)\n",
    "tensor_shape = (batch_size,)+dims\n",
    "print(tensor_shape)\n",
    "# molgrid.write_dx(\"temp\",gmaker,center,1)"
   ]
  },
  {
   "cell_type": "code",
   "execution_count": 5,
   "metadata": {},
   "outputs": [],
   "source": [
    "# Initialize Generator, Enocoder, VAE and LR Discriminator on GPU\n",
    "generator = Generator(8, dims).to('cuda')\n",
    "encoder = Encoder(vaeLike=True).to('cuda')\n",
    "D_VAE = MultiDiscriminator(dims).to('cuda')\n",
    "D_LR = MultiDiscriminator(dims).to('cuda')\n",
    "\n",
    "# generator = Generator(8, dims)\n",
    "# encoder = Encoder(vaeLike=True)\n",
    "# D_VAE = MultiDiscriminator(dims)\n",
    "# D_LR = MultiDiscriminator(dims)\n",
    "\n",
    "# Initialise weights\n",
    "generator.apply(weights_init)\n",
    "D_VAE.apply(weights_init)\n",
    "D_LR.apply(weights_init)\n",
    "\n",
    "# construct optimizers for the 4 networks\n",
    "optimizer_G = optim.Adam(generator.parameters(), lr=0.0002, betas=[0.5, 0.999])\n",
    "optimizer_E = optim.Adam(encoder.parameters(), lr=0.0002, betas=[0.5, 0.999])\n",
    "optimizer_D_VAE = optim.Adam(D_VAE.parameters(), lr=0.0002, betas=[0.5, 0.999])\n",
    "optimizer_D_LR = optim.Adam(D_LR.parameters(), lr=0.0002, betas=[0.5, 0.999])\n",
    "\n",
    "# construct input tensors\n",
    "input_tensor1 = torch.zeros(tensor_shape, dtype=torch.float32, device='cuda')\n",
    "input_tensor2 = torch.zeros(tensor_shape, dtype=torch.float32, device='cuda')\n",
    "# p3d = (40,40,40,40,40,40)\n",
    "# print(input_tensor.shape)\n",
    "float_labels = torch.zeros(batch_size, dtype=torch.float32)"
   ]
  },
  {
   "cell_type": "code",
   "execution_count": 6,
   "metadata": {},
   "outputs": [],
   "source": [
    "from torch.autograd import Variable\n",
    "# Tensor = torch.Tensor\n",
    "Tensor = torch.cuda.FloatTensor if cuda else torch.Tensor\n",
    "def reparameterization(mu, logvar):\n",
    "    std = torch.exp(logvar / 2)\n",
    "    sampled_z = Variable(Tensor(np.random.normal(0, 1, (mu.size(0), 8))))\n",
    "    z = sampled_z * std + mu\n",
    "    return z"
   ]
  },
  {
   "cell_type": "code",
   "execution_count": 7,
   "metadata": {},
   "outputs": [
    {
     "name": "stdout",
     "output_type": "stream",
     "text": [
      "Total Parameters:  2096110\n",
      "Trainable Parameters:  2096110\n"
     ]
    }
   ],
   "source": [
    "total_params = sum(p.numel() for p in generator.parameters())\n",
    "train_params = sum(p.numel() for p in generator.parameters() if p.requires_grad)\n",
    "print(\"Total Parameters: \", total_params)\n",
    "print(\"Trainable Parameters: \", train_params)"
   ]
  },
  {
   "cell_type": "code",
   "execution_count": 8,
   "metadata": {},
   "outputs": [
    {
     "name": "stdout",
     "output_type": "stream",
     "text": [
      "Total Parameters:  877923\n",
      "Trainable Parameters:  877923\n"
     ]
    }
   ],
   "source": [
    "total_params = sum(p.numel() for p in D_VAE.parameters())\n",
    "train_params = sum(p.numel() for p in D_VAE.parameters() if p.requires_grad)\n",
    "print(\"Total Parameters: \", total_params)\n",
    "print(\"Trainable Parameters: \", train_params)"
   ]
  },
  {
   "cell_type": "code",
   "execution_count": 9,
   "metadata": {},
   "outputs": [
    {
     "name": "stdout",
     "output_type": "stream",
     "text": [
      "{'lambda_pixel': 10, 'lambda_kl': 0.01, 'lambda_latent': 0.1}\n"
     ]
    }
   ],
   "source": [
    "# Loss functions\n",
    "mae_loss = torch.nn.L1Loss()\n",
    "opt = {\n",
    "  'lambda_pixel': 10,\n",
    "   'lambda_kl': 0.01,\n",
    "    'lambda_latent': 0.1\n",
    "}\n",
    "print(opt)"
   ]
  },
  {
   "cell_type": "code",
   "execution_count": null,
   "metadata": {
    "scrolled": false
   },
   "outputs": [
    {
     "name": "stdout",
     "output_type": "stream",
     "text": [
      "[Epoch 357/500] [G loss: 2.360, pixel loss: 0.009, kl loss: 0.081, latent loss: 0.071 D_VAE loss: 1.006, D_LR loss: 1.038]]"
     ]
    }
   ],
   "source": [
    "# train for 500 iterations\n",
    "G_loss, Pixel_loss, KL_Loss, Latent_loss, DVAE_loss, DLR_loss = [],[],[],[],[],[]\n",
    "for iteration in range(500):\n",
    "    # load data\n",
    "    batch1 = e.next_batch(batch_size)\n",
    "    batch2 = e.next_batch(batch_size)\n",
    "    # libmolgrid can interoperate directly with Torch tensors, using views over the same memory.\n",
    "    # internally, the libmolgrid GridMaker can use libmolgrid Transforms to apply random rotations and translations for data augmentation\n",
    "    # the user may also use libmolgrid Transforms directly in python\n",
    "    gmaker.forward(batch1, input_tensor1, 0, random_rotation=False)\n",
    "    gmaker.forward(batch2, input_tensor2, 0, random_rotation=False)\n",
    "    \n",
    "    # Training the encoder and generator\n",
    "    optimizer_E.zero_grad()\n",
    "    optimizer_G.zero_grad()\n",
    "    \n",
    "    mu, logvar = encoder(input_tensor2)\n",
    "    encoded_z = reparameterization(mu, logvar)\n",
    "\n",
    "    fake_ligands = generator(input_tensor1, encoded_z)\n",
    "    \n",
    "    # L1 loss for measuring degree of diff between generated outputs and the actual input\n",
    "    loss_pixel = mae_loss(fake_ligands, input_tensor2)\n",
    "#     Pixel_loss.append(loss_pixel)\n",
    "    \n",
    "    # KL divergence between the distribution learned by the encoder and a random Gaussian\n",
    "    loss_kl = 0.5 * torch.sum(torch.exp(logvar) + mu ** 2 - logvar - 1)\n",
    "#     KL_Loss.append(loss_kl)\n",
    "    \n",
    "    # discrimantor distinguishing b/w fake and real for cVAE GAN\n",
    "    loss_VAE_GAN = D_VAE.compute_loss(fake_ligands, 1)\n",
    "    \n",
    "    # sample z values from the Gaussian distribution with mu,sigma = 0, 1\n",
    "    sampled_z = Variable(Tensor(np.random.normal(0, 1, (input_tensor1.size(0), 8))))\n",
    "    fake_ligands1 = generator(input_tensor1, sampled_z)\n",
    "    \n",
    "    # discrimantor distinguishing b/w fake and real for cLR GAN\n",
    "    loss_LR_GAN = D_LR.compute_loss(fake_ligands1, 1)\n",
    "    \n",
    "    # Total Loss: Generator + Encoder\n",
    "    loss_GE = loss_VAE_GAN + loss_LR_GAN + opt['lambda_pixel'] * loss_pixel + opt['lambda_kl'] * loss_kl\n",
    "#     G_loss.append(loss_GE)\n",
    "    \n",
    "    loss_GE.backward(retain_graph=True)\n",
    "    optimizer_E.step()\n",
    "    \n",
    "    # Generator only loss\n",
    "    _mu, _ = encoder(fake_ligands1)\n",
    "    loss_latent = opt['lambda_latent'] * mae_loss(_mu, sampled_z)\n",
    "#     Latent_loss.append(loss_latent)\n",
    "    \n",
    "    loss_latent.backward()\n",
    "    optimizer_G.step()\n",
    "    \n",
    "    # Train the discriminator for the cVAE GAN.\n",
    "    optimizer_D_VAE.zero_grad()\n",
    "    loss_D_VAE = D_VAE.compute_loss(fake_ligands.detach(), 0) + D_VAE.compute_loss(input_tensor2, 1)\n",
    "#     DVAE_loss.append(loss_D_VAE)\n",
    "    \n",
    "    loss_D_VAE.backward()\n",
    "    optimizer_D_VAE.step()\n",
    "    \n",
    "    # Train the discriminator for the cLR GAN.\n",
    "    optimizer_D_LR.zero_grad()\n",
    "    loss_D_LR = D_LR.compute_loss(fake_ligands1.detach(), 0) + D_LR.compute_loss(input_tensor2, 1)\n",
    "#     DLR_loss.append(loss_D_LR)\n",
    "    \n",
    "    loss_D_LR.backward()\n",
    "    optimizer_D_LR.step()\n",
    "    \n",
    "    sys.stdout.write(\n",
    "            \"\\r[Epoch %d/%d] [G loss: %.3f, pixel loss: %.3f, kl loss: %.3f, latent loss: %.3f D_VAE loss: %.3f, D_LR loss: %.3f]\"\n",
    "            % (\n",
    "                iteration,\n",
    "                500,\n",
    "                loss_GE.item(),\n",
    "                loss_pixel.item(),\n",
    "                loss_kl.item(),\n",
    "                loss_latent.item(),\n",
    "                loss_D_VAE.item(),\n",
    "                loss_D_LR.item()\n",
    "            )\n",
    "    )"
   ]
  },
  {
   "cell_type": "code",
   "execution_count": null,
   "metadata": {},
   "outputs": [],
   "source": [
    "def plot(loss):\n",
    "    plt.plot(loss)"
   ]
  },
  {
   "cell_type": "code",
   "execution_count": null,
   "metadata": {},
   "outputs": [],
   "source": [
    "# plot(G_lo)"
   ]
  }
 ],
 "metadata": {
  "anaconda-cloud": {},
  "kernelspec": {
   "display_name": "libmolgrid",
   "language": "python",
   "name": "libmolgrid"
  },
  "language_info": {
   "codemirror_mode": {
    "name": "ipython",
    "version": 3
   },
   "file_extension": ".py",
   "mimetype": "text/x-python",
   "name": "python",
   "nbconvert_exporter": "python",
   "pygments_lexer": "ipython3",
   "version": "3.6.12"
  }
 },
 "nbformat": 4,
 "nbformat_minor": 4
}
