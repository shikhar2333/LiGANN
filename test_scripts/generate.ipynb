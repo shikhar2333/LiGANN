{
 "cells": [
  {
   "cell_type": "code",
   "execution_count": 23,
   "id": "8d088af6",
   "metadata": {},
   "outputs": [],
   "source": [
    "import selfies as sf\n",
    "from rdkit import Chem"
   ]
  },
  {
   "cell_type": "code",
   "execution_count": 24,
   "id": "0d5a738b",
   "metadata": {},
   "outputs": [],
   "source": [
    "selfies = []\n",
    "seed_mol = None\n",
    "with open(\"../out.txt\") as fp:\n",
    "    lines = fp.readlines()\n",
    "    seed_mol = lines[0]\n",
    "    lines = lines[2:]\n",
    "    for line in lines:\n",
    "        selfies.append(line.strip())"
   ]
  },
  {
   "cell_type": "code",
   "execution_count": 29,
   "id": "0dc60521",
   "metadata": {},
   "outputs": [
    {
     "data": {
      "text/plain": [
       "<rdkit.Chem.rdchem.Mol at 0x7f9c6dd60940>"
      ]
     },
     "execution_count": 29,
     "metadata": {},
     "output_type": "execute_result"
    }
   ],
   "source": [
    "# Seed molecule\n",
    "Chem.MolFromSmiles(seed_mol)"
   ]
  },
  {
   "cell_type": "code",
   "execution_count": 28,
   "id": "99b14f11",
   "metadata": {},
   "outputs": [],
   "source": [
    "smiles = [sf.decoder(selfie) for selfie in selfies]\n",
    "for smile in smiles:\n",
    "    Chem.MolFromSmiles(smile)"
   ]
  }
 ],
 "metadata": {
  "kernelspec": {
   "display_name": "Python 3.6.12 64-bit ('libmolgrid': conda)",
   "language": "python",
   "name": "python361264bitlibmolgridcondafa63338677a643948bf453e148bb995c"
  },
  "language_info": {
   "codemirror_mode": {
    "name": "ipython",
    "version": 3
   },
   "file_extension": ".py",
   "mimetype": "text/x-python",
   "name": "python",
   "nbconvert_exporter": "python",
   "pygments_lexer": "ipython3",
   "version": "3.6.12"
  }
 },
 "nbformat": 4,
 "nbformat_minor": 5
}
